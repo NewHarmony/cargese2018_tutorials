{
 "cells": [
  {
   "cell_type": "markdown",
   "metadata": {},
   "source": [
    "# Will Chocolate Make Me More Productive?\n",
    "\n",
    "An introduction to Bayesian Hierarchical Modelling (with chocolate). \n",
    "\n",
    "Last year, I moved jobs and institutions. Before I moved, I had to get a couple of papers finished, so they wouldn't hang over me when I started my new job. Because I don't drink coffee, I need another way to fuel all that paper writing: chocolate!\n",
    "\n",
    "Like any good scientist, I decided that I should optimize my chocolate consumption for optimal productivity, so I did. \n",
    "\n",
    "Part of my new job, however, is to help lead an institute. So I figured maybe I should give my other colleagues chocolate, too, to aid in their paper/proposal/thesis-writing pursuits. I could just give them the same amount of chocolate that I found for myself, but what if they're different? And if I give people chocolate anyway, shouldn't I just rerun this experiment and figure out the best amounts of chocolate for any given person? \n",
    "\n",
    "Clearly, the answer is yes. We're going to figure out how much chocolate to give people, and you'll need to help me!"
   ]
  },
  {
   "cell_type": "code",
   "execution_count": null,
   "metadata": {},
   "outputs": [],
   "source": [
    "%matplotlib notebook\n",
    "import matplotlib.pyplot as plt\n",
    "import seaborn as sns\n",
    "\n",
    "sns.set_style(\"whitegrid\")\n",
    "sns.set_context(\"talk\")\n",
    "\n",
    "import numpy as np\n",
    "import pandas as pd"
   ]
  }
 ],
 "metadata": {
  "kernelspec": {
   "display_name": "Python 3",
   "language": "python",
   "name": "python3"
  },
  "language_info": {
   "codemirror_mode": {
    "name": "ipython",
    "version": 3
   },
   "file_extension": ".py",
   "mimetype": "text/x-python",
   "name": "python",
   "nbconvert_exporter": "python",
   "pygments_lexer": "ipython3",
   "version": "3.6.6"
  }
 },
 "nbformat": 4,
 "nbformat_minor": 2
}
